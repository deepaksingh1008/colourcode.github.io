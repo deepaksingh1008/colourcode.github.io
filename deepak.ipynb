{
  "nbformat": 4,
  "nbformat_minor": 0,
  "metadata": {
    "colab": {
      "provenance": [],
      "toc_visible": true,
      "authorship_tag": "ABX9TyM8nyj7ZOPCjCO0Ean6USvh",
      "include_colab_link": true
    },
    "kernelspec": {
      "name": "python3",
      "display_name": "Python 3"
    },
    "language_info": {
      "name": "python"
    }
  },
  "cells": [
    {
      "cell_type": "markdown",
      "metadata": {
        "id": "view-in-github",
        "colab_type": "text"
      },
      "source": [
        "<a href=\"https://colab.research.google.com/github/deepaksingh1008/colourcode.github.io/blob/main/deepak.ipynb\" target=\"_parent\"><img src=\"https://colab.research.google.com/assets/colab-badge.svg\" alt=\"Open In Colab\"/></a>"
      ]
    },
    {
      "cell_type": "code",
      "execution_count": null,
      "metadata": {
        "id": "t9vIyOHDmUao",
        "colab": {
          "base_uri": "https://localhost:8080/"
        },
        "outputId": "ce6103d2-c1fa-4f29-d150-70bed89e7282"
      },
      "outputs": [
        {
          "output_type": "stream",
          "name": "stdout",
          "text": [
            "Looking in indexes: https://pypi.org/simple, https://us-python.pkg.dev/colab-wheels/public/simple/\n",
            "Requirement already satisfied: bs4 in /usr/local/lib/python3.9/dist-packages (0.0.1)\n",
            "Requirement already satisfied: beautifulsoup4 in /usr/local/lib/python3.9/dist-packages (from bs4) (4.11.2)\n",
            "Requirement already satisfied: soupsieve>1.2 in /usr/local/lib/python3.9/dist-packages (from beautifulsoup4->bs4) (2.4)\n"
          ]
        }
      ],
      "source": [
        "!pip install bs4\n"
      ]
    },
    {
      "cell_type": "code",
      "source": [
        "!pip install requests"
      ],
      "metadata": {
        "colab": {
          "base_uri": "https://localhost:8080/"
        },
        "id": "EYCp1Km2QJ1c",
        "outputId": "4c5cfda9-9f16-4c51-c30a-efc86200d97b"
      },
      "execution_count": null,
      "outputs": [
        {
          "output_type": "stream",
          "name": "stdout",
          "text": [
            "Looking in indexes: https://pypi.org/simple, https://us-python.pkg.dev/colab-wheels/public/simple/\n",
            "Requirement already satisfied: requests in /usr/local/lib/python3.9/dist-packages (2.27.1)\n",
            "Requirement already satisfied: charset-normalizer~=2.0.0 in /usr/local/lib/python3.9/dist-packages (from requests) (2.0.12)\n",
            "Requirement already satisfied: idna<4,>=2.5 in /usr/local/lib/python3.9/dist-packages (from requests) (3.4)\n",
            "Requirement already satisfied: urllib3<1.27,>=1.21.1 in /usr/local/lib/python3.9/dist-packages (from requests) (1.26.15)\n",
            "Requirement already satisfied: certifi>=2017.4.17 in /usr/local/lib/python3.9/dist-packages (from requests) (2022.12.7)\n"
          ]
        }
      ]
    },
    {
      "cell_type": "code",
      "source": [
        "!pip install pandas"
      ],
      "metadata": {
        "colab": {
          "base_uri": "https://localhost:8080/"
        },
        "id": "zZGLN9T-QZVU",
        "outputId": "a044bb3f-6122-40b4-fafa-778c84b539a6"
      },
      "execution_count": null,
      "outputs": [
        {
          "output_type": "stream",
          "name": "stdout",
          "text": [
            "Looking in indexes: https://pypi.org/simple, https://us-python.pkg.dev/colab-wheels/public/simple/\n",
            "Requirement already satisfied: pandas in /usr/local/lib/python3.9/dist-packages (1.4.4)\n",
            "Requirement already satisfied: pytz>=2020.1 in /usr/local/lib/python3.9/dist-packages (from pandas) (2022.7.1)\n",
            "Requirement already satisfied: python-dateutil>=2.8.1 in /usr/local/lib/python3.9/dist-packages (from pandas) (2.8.2)\n",
            "Requirement already satisfied: numpy>=1.18.5 in /usr/local/lib/python3.9/dist-packages (from pandas) (1.22.4)\n",
            "Requirement already satisfied: six>=1.5 in /usr/local/lib/python3.9/dist-packages (from python-dateutil>=2.8.1->pandas) (1.15.0)\n"
          ]
        }
      ]
    },
    {
      "cell_type": "code",
      "source": [
        "!pip install numpy"
      ],
      "metadata": {
        "colab": {
          "base_uri": "https://localhost:8080/"
        },
        "id": "oR8b9Ac4kH3g",
        "outputId": "2d946a5c-21c6-4d5b-afee-56aabaaf1401"
      },
      "execution_count": null,
      "outputs": [
        {
          "output_type": "stream",
          "name": "stdout",
          "text": [
            "Looking in indexes: https://pypi.org/simple, https://us-python.pkg.dev/colab-wheels/public/simple/\n",
            "Requirement already satisfied: numpy in /usr/local/lib/python3.9/dist-packages (1.22.4)\n"
          ]
        }
      ]
    },
    {
      "cell_type": "code",
      "source": [
        "from bs4 import BeautifulSoup\n",
        "import requests\n",
        "import pandas as pd\n",
        "import numpy as np\n"
      ],
      "metadata": {
        "id": "m6_MeH9LQr7z"
      },
      "execution_count": null,
      "outputs": []
    },
    {
      "cell_type": "code",
      "source": [
        "# from bs4 import BeautifulSoup\n",
        "# import requests\n",
        "# import pandas as pd\n",
        "# URL = \"https://www.amazon.in/s?k=bags&crid=2M096C61O4MLT&qid=1653308124&sprefix=ba%2Caps%2C283&ref=sr_pg_1\"\n",
        "# HEADERS=({'User-Agent':'Mozilla/5.0 (Windows NT 10.0; Win64; x64) AppleWebKit/537.36 (KHTML, like Gecko) Chrome/111.0.0.0 Safari/537.36', 'Accept-Language': 'en-US,en;q=0.5'})\n",
        "# webpage = requests.get(URL, headers=HEADERS)\n",
        "# print(webpage)"
      ],
      "metadata": {
        "id": "rWYIC5riRPuU"
      },
      "execution_count": null,
      "outputs": []
    },
    {
      "cell_type": "code",
      "source": [
        "# soup = BeautifulSoup(webpage.content, \"html.parser\")\n",
        "# print(soup)"
      ],
      "metadata": {
        "id": "BfdSfIQoVAGs"
      },
      "execution_count": null,
      "outputs": []
    },
    {
      "cell_type": "code",
      "source": [
        "# print(webpage)"
      ],
      "metadata": {
        "id": "0KKXKYbbUx_0"
      },
      "execution_count": null,
      "outputs": []
    },
    {
      "cell_type": "code",
      "source": [
        "# type(webpage.content)"
      ],
      "metadata": {
        "colab": {
          "base_uri": "https://localhost:8080/"
        },
        "id": "XGjL3T8pU2rr",
        "outputId": "2e8e2541-5995-4a22-e929-8b3388d83185"
      },
      "execution_count": null,
      "outputs": [
        {
          "output_type": "execute_result",
          "data": {
            "text/plain": [
              "bytes"
            ]
          },
          "metadata": {},
          "execution_count": 13
        }
      ]
    },
    {
      "cell_type": "code",
      "source": [
        "# links = soup.find_all(\"a\", attrs={'class':'a-link-normal s-underline-text s-underline-link-text s-link-style a-text-normal'})\n",
        "# # print(links)\n",
        "# product_linkArr= []\n",
        "# for i in range(0,20):\n",
        "#     link=links[0].get('href')\n",
        "#     product_link = \"https://amazon.com\" + link\n",
        "#     product_linkArr.append(product_link)\n",
        "#     print(product_link)\n"
      ],
      "metadata": {
        "id": "2sG4wBArWR3d"
      },
      "execution_count": null,
      "outputs": []
    },
    {
      "cell_type": "code",
      "source": [
        "# Function to extract Product Title\n",
        "def get_title(soup):\n",
        "\n",
        "    try:\n",
        "        # Outer Tag Object\n",
        "        title = soup.find(\"span\", attrs={\"id\":'productTitle'})\n",
        "        \n",
        "        # Inner NavigatableString Object\n",
        "        title_value = title.text\n",
        "\n",
        "        # Title as a string value\n",
        "        title_string = title_value.strip()\n",
        "\n",
        "    except AttributeError:\n",
        "        title_string = \"\"\n",
        "\n",
        "    return title_string\n",
        "\n",
        "# Function to extract Product Price\n",
        "def get_price(soup):\n",
        "\n",
        "    try:\n",
        "        price = soup.find(\"span\", attrs={'class':'a-price-whole a-offscreen'}).string.strip()\n",
        "\n",
        "    except AttributeError:\n",
        "\n",
        "        try:\n",
        "            # If there is some deal price\n",
        "            price = soup.find(\"span\", attrs={'class':'a-offscreen'}).string.strip()\n",
        "\n",
        "        except:\n",
        "            price = \"\"\n",
        "\n",
        "    return price\n",
        "\n",
        "# Function to extract Product Rating\n",
        "def get_rating(soup):\n",
        "\n",
        "    try:\n",
        "        rating = soup.find(\"i\", attrs={'class':'a-icon a-icon-star a-star-4-5'}).string.strip()\n",
        "    \n",
        "    except AttributeError:\n",
        "        try:\n",
        "            rating = soup.find(\"span\", attrs={'class':'a-icon-alt'}).string.strip()\n",
        "        except:\n",
        "            rating = \"\"\t\n",
        "\n",
        "    return rating\n",
        "\n",
        "# Function to extract Number of User Reviews\n",
        "def get_review_count(soup):\n",
        "    try:\n",
        "        review_count = soup.find(\"span\", attrs={'id':'acrCustomerReviewText'}).string.strip()\n",
        "\n",
        "    except AttributeError:\n",
        "        review_count = \"\"\t\n",
        "\n",
        "    return review_count\n",
        "\n"
      ],
      "metadata": {
        "id": "p29QoOoaiTcH"
      },
      "execution_count": null,
      "outputs": []
    },
    {
      "cell_type": "markdown",
      "source": [
        "# New Section"
      ],
      "metadata": {
        "id": "4de6yyJ-2UFz"
      }
    },
    {
      "cell_type": "code",
      "source": [
        "if __name__ == '__main__':\n",
        "\n",
        "    # add your user agent \n",
        "    HEADERS = ({'User-Agent':'Mozilla/5.0 (Windows NT 10.0; Win64; x64) AppleWebKit/537.36 (KHTML, like Gecko) Chrome/111.0.0.0 Safari/537.36', 'Accept-Language': 'en-US, en;q=0.5'})\n",
        "\n",
        "    # The webpage URL\n",
        "    URL = \"https://www.amazon.in/s?k=bags&crid=2M096C61O4MLT&qid=1653308124&sprefix=ba%2Caps%2C283&ref=sr_pg_1\"\n",
        "\n",
        "    # HTTP Request\n",
        "    webpage = requests.get(URL, headers=HEADERS)\n",
        "\n",
        "    # Soup Object containing all data\n",
        "    soup = BeautifulSoup(webpage.content, \"html.parser\")\n",
        "\n",
        "    # Fetch links as List of Tag Objects\n",
        "    links = soup.find_all(\"a\", attrs={'class':'a-link-normal s-underline-text s-underline-link-text s-link-style a-text-normal'})\n",
        "\n",
        "    # Store the links\n",
        "    links_list = []\n",
        "\n",
        "    # Loop for extracting links from Tag Objects\n",
        "    i=0\n",
        "    for link in links:\n",
        "            links_list.append(link.get('href'))\n",
        "            i=i+1\n",
        "            if i==200:\n",
        "              break\n",
        "\n",
        "    d = {\"title\":[], \"price\":[], \"rating\":[], \"reviews\":[],\"productLink\":[]}\n",
        "    \n",
        "    # Loop for extracting product details from each link \n",
        "    for link in links_list:\n",
        "        newLink=\"https://www.amazon.in\" + link\n",
        "        new_webpage = requests.get(\"https://www.amazon.in\" + link, headers=HEADERS)\n",
        "        d['productLink'].append(newLink)\n",
        "\n",
        "        new_soup = BeautifulSoup(new_webpage.content, \"html.parser\")\n",
        "\n",
        "        # Function calls to display all necessary product information\n",
        "        d['title'].append(get_title(new_soup))\n",
        "        d['price'].append(get_price(new_soup))\n",
        "        d['rating'].append(get_rating(new_soup))\n",
        "        d['reviews'].append(get_review_count(new_soup))\n",
        "        # d['availability'].append(get_availability(new_soup))\n",
        "\n",
        "    \n",
        "    amazon_df = pd.DataFrame.from_dict(d)\n",
        "    amazon_df['title'].replace('', np.nan, inplace=True)\n",
        "    amazon_df = amazon_df.dropna(subset=['title'])\n",
        "    amazon_df.to_csv(\"amazon_data.csv\", header=True, index=False)"
      ],
      "metadata": {
        "id": "Ue_UYTwmjRda"
      },
      "execution_count": null,
      "outputs": []
    },
    {
      "cell_type": "code",
      "source": [
        "print(amazon_df)"
      ],
      "metadata": {
        "colab": {
          "base_uri": "https://localhost:8080/"
        },
        "id": "uTJa2XFqj8n5",
        "outputId": "823a78ce-95ad-434f-f2df-dd945ff50b71"
      },
      "execution_count": null,
      "outputs": [
        {
          "output_type": "stream",
          "name": "stdout",
          "text": [
            "                                                title  price  \\\n",
            "0   American Tourister 32 Ltrs Black Casual Backpa...          \n",
            "1           Skybags Brat Black 46 Cms Casual Backpack    659   \n",
            "2   Wesley Milestone 2.0 Casual Waterproof Laptop ...          \n",
            "3   Lavie Sport Lino Large Size 63 cms Wheel Duffl...          \n",
            "4   ADISA 15.6 inch Laptop Backpack Office Bag Col...          \n",
            "5   Half Moon 35 L Waterproof Laptop College Schoo...    689   \n",
            "6   Amazon Brand - Presto! Oxo-Biodegradable Garba...          \n",
            "7   Gear CarryOn 16L Foldable Water Resistant Scho...          \n",
            "8   SAFARI 15 Ltrs Sea Blue Casual/School/College ...    389   \n",
            "9   American Tourister VALEX BLUE LAPTOP BACKPACK ...  1,699   \n",
            "10  DAFTER Rubberized Waterproof Dust Proof Rain C...          \n",
            "11  CHIMERA Pure Leather Mini Cross body Small Mob...          \n",
            "12  FLEX BAGS Handicraft Beautiful Bling Box Clutc...          \n",
            "13  FLEX BAGS Handicraft Beautiful Bling Box Clutc...    299   \n",
            "14  CHIMERA Leather Mini Cross body Bag | Cell Pho...  1,380   \n",
            "15  Vegan Leather Make-up Box Organizer | Vanity T...          \n",
            "16  LIFE TODAY Sling form Men and Women | Cross Bo...          \n",
            "17  Hifly Leather Briefcase for Men - Unisex - Lap...          \n",
            "18  Kuber Industries Women's Handkerchief Set (Cream)          \n",
            "19  Fiesto Fashion PU Leather Handbags With Sling ...          \n",
            "20              ADISA women girls embroided sling bag          \n",
            "21  Lapis O Lupo Women Vegan Leather Handbags Flow...          \n",
            "22  Half Moon Strike 35L Unisex Spacious School/La...          \n",
            "23  Wesley Milestone 2.0 Casual Waterproof Laptop ...          \n",
            "24  Half Moon Large 37L Laptop Bag Backpack for me...          \n",
            "25  Mi Step Out 12 L Mini Backpack (Small Size, Bl...          \n",
            "26  Gear Classic 20L Faux Leather Water Resistant ...          \n",
            "27  ADISA 35L Large Laptop Backpack Office Bag Col...          \n",
            "\n",
            "                rating         reviews  \\\n",
            "0   4.1 out of 5 stars  52,288 ratings   \n",
            "1   4.1 out of 5 stars   3,770 ratings   \n",
            "2   4.3 out of 5 stars   9,795 ratings   \n",
            "3   3.9 out of 5 stars   6,297 ratings   \n",
            "4   4.3 out of 5 stars     565 ratings   \n",
            "5   3.9 out of 5 stars  15,248 ratings   \n",
            "6   4.3 out of 5 stars  30,116 ratings   \n",
            "7   3.7 out of 5 stars   6,056 ratings   \n",
            "8   4.0 out of 5 stars  18,009 ratings   \n",
            "9   4.1 out of 5 stars       8 ratings   \n",
            "10  4.0 out of 5 stars      32 ratings   \n",
            "11  4.0 out of 5 stars       5 ratings   \n",
            "12  4.4 out of 5 stars       4 ratings   \n",
            "13  4.4 out of 5 stars       4 ratings   \n",
            "14  4.7 out of 5 stars       3 ratings   \n",
            "15  5.0 out of 5 stars       3 ratings   \n",
            "16  5.0 out of 5 stars        1 rating   \n",
            "17  4.3 out of 5 stars       3 ratings   \n",
            "18  3.8 out of 5 stars     482 ratings   \n",
            "19  3.9 out of 5 stars   4,100 ratings   \n",
            "20  4.2 out of 5 stars   1,428 ratings   \n",
            "21  4.2 out of 5 stars   3,629 ratings   \n",
            "22  3.7 out of 5 stars     114 ratings   \n",
            "23  4.3 out of 5 stars   9,795 ratings   \n",
            "24  3.9 out of 5 stars   2,340 ratings   \n",
            "25  4.3 out of 5 stars   8,155 ratings   \n",
            "26  4.4 out of 5 stars   5,453 ratings   \n",
            "27  4.0 out of 5 stars      31 ratings   \n",
            "\n",
            "                                          productLink  \n",
            "0   https://www.amazon.in/American-Tourister-AMT-S...  \n",
            "1   https://www.amazon.in/Skybags-Brat-Black-Casua...  \n",
            "2   https://www.amazon.in/Wesley-Milestone-Waterpr...  \n",
            "3   https://www.amazon.in/Lavie-Sport-Duffle-Lugga...  \n",
            "4   https://www.amazon.in/ADISA-Laptop-Backpack-Of...  \n",
            "5   https://www.amazon.in/Half-Moon-Waterproof-Bac...  \n",
            "6   https://www.amazon.in/Amazon-Brand-Presto-Oxo-...  \n",
            "7   https://www.amazon.in/GEAR-Black-Blue-Backpack...  \n",
            "8   https://www.amazon.in/SAFARI-Ltrs-Casual-Backp...  \n",
            "9   https://www.amazon.in/American-Tourister-BACKP...  \n",
            "10  https://www.amazon.in/Rubberized-Waterproof-Ra...  \n",
            "11  https://www.amazon.in/CHIMERA-Leather-Cross-Mo...  \n",
            "12  https://www.amazon.in/FLEX-BAGS-Synthetic-Faux...  \n",
            "13  https://www.amazon.in/FLEX-BAGS-Synthetic-Faux...  \n",
            "14  https://www.amazon.in/CHIMERA-Leather-Travel-P...  \n",
            "15  https://www.amazon.in/Leather-Vegan-Organizer-...  \n",
            "16  https://www.amazon.in/LIFE-TODAY-Travel-Should...  \n",
            "17  https://www.amazon.in/Hifly-Leather-Briefcase-...  \n",
            "18  https://www.amazon.in/Kuber-Industries-Handcra...  \n",
            "19  https://www.amazon.in/Fiesto-Fashion-Womens-Ha...  \n",
            "20  https://www.amazon.in/ADISA-women-girls-black-...  \n",
            "21  https://www.amazon.in/Lapis-Lupo-Flower-Embroi...  \n",
            "22  https://www.amazon.in/Half-Moon-Spacious-Backp...  \n",
            "23  https://www.amazon.in/Wesley-Milestone-Waterpr...  \n",
            "24  https://www.amazon.in/Half-Moon-Backpack-Compa...  \n",
            "25  https://www.amazon.in/Backpack-Small-Black-Wat...  \n",
            "26  https://www.amazon.in/Gear-Classic-Leather-Bac...  \n",
            "27  https://www.amazon.in/ADISA-Laptop-Backpack-Of...  \n"
          ]
        }
      ]
    },
    {
      "cell_type": "markdown",
      "source": [
        "# New Section"
      ],
      "metadata": {
        "id": "73RKf7NCQQIz"
      }
    },
    {
      "cell_type": "markdown",
      "source": [
        "# New Section"
      ],
      "metadata": {
        "id": "NDpLceYKQUiZ"
      }
    }
  ]
}